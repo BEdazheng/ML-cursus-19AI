{
  "nbformat": 4,
  "nbformat_minor": 0,
  "metadata": {
    "colab": {
      "name": "Multivariate Linear Regression.ipynb",
      "version": "0.3.2",
      "provenance": [],
      "collapsed_sections": []
    },
    "kernelspec": {
      "name": "python3",
      "display_name": "Python 3"
    }
  },
  "cells": [
    {
      "cell_type": "code",
      "metadata": {
        "id": "W1_JsbsJbO1F",
        "colab_type": "code",
        "colab": {}
      },
      "source": [
        "import numpy as np\n",
        "import pandas as pd"
      ],
      "execution_count": 0,
      "outputs": []
    },
    {
      "cell_type": "code",
      "metadata": {
        "id": "2YV-zAytbx1h",
        "colab_type": "code",
        "colab": {
          "base_uri": "https://localhost:8080/",
          "height": 119
        },
        "outputId": "99413326-80f1-4982-eba4-268a2e2b0dae"
      },
      "source": [
        "#Load and see what the data looks like. Now we have 2 inputs which are the size and the nb_bedrooms. We are still trying to predict the house's price\n",
        "data = pd.read_csv(\"data.csv\")\n",
        "print(data.head(5))"
      ],
      "execution_count": 5,
      "outputs": [
        {
          "output_type": "stream",
          "text": [
            "   size  nb_bedrooms   price\n",
            "0  2104            3  399900\n",
            "1  1600            3  329900\n",
            "2  2400            3  369000\n",
            "3  1416            2  232000\n",
            "4  3000            4  539900\n"
          ],
          "name": "stdout"
        }
      ]
    },
    {
      "cell_type": "code",
      "metadata": {
        "id": "0DdfRxKacNx8",
        "colab_type": "code",
        "colab": {
          "base_uri": "https://localhost:8080/",
          "height": 51
        },
        "outputId": "1e3838a4-b0ce-4331-ed05-aaaa1b00cc88"
      },
      "source": [
        "X = np.matrix([data['size'], data['nb_bedrooms']])\n",
        "y = np.matrix(data['price'])\n",
        "y = np.transpose(y)\n",
        "print(\"Shape of X = {}\".format(X.shape))\n",
        "print(\"Shape of y = {}\".format(y.shape))"
      ],
      "execution_count": 15,
      "outputs": [
        {
          "output_type": "stream",
          "text": [
            "Shape of X = (2, 47)\n",
            "Shape of y = (47, 1)\n"
          ],
          "name": "stdout"
        }
      ]
    },
    {
      "cell_type": "code",
      "metadata": {
        "id": "1q3SHkO6c_Sh",
        "colab_type": "code",
        "colab": {
          "base_uri": "https://localhost:8080/",
          "height": 34
        },
        "outputId": "0478798b-cca0-4c7a-9dc4-86c3d0e976ac"
      },
      "source": [
        "theta = np.matrix([1.0, 2.0, 3.0])\n",
        "theta = np.transpose(theta)\n",
        "print(theta.shape)"
      ],
      "execution_count": 18,
      "outputs": [
        {
          "output_type": "stream",
          "text": [
            "(3, 1)\n"
          ],
          "name": "stdout"
        }
      ]
    },
    {
      "cell_type": "code",
      "metadata": {
        "id": "J-ZrjO-Idbbi",
        "colab_type": "code",
        "colab": {
          "base_uri": "https://localhost:8080/",
          "height": 34
        },
        "outputId": "64b22959-f056-4493-fcfb-34076b1220a2"
      },
      "source": [
        "#Let's create a method that normalize all thoses inputs and returns T the normalized matrice's inputs. We also need the mean and the standard deviation to reverse the process\n",
        "def featureScaleNormalize(X):\n",
        "    mean = X.mean(1)\n",
        "    stdev = X.std(1)\n",
        "    T = (X - mean) / stdev\n",
        "    return T, mean, stdev\n",
        "T, mean, stdev = featureScaleNormalize(X)\n",
        "T = np.transpose(T)\n",
        "T.shape"
      ],
      "execution_count": 29,
      "outputs": [
        {
          "output_type": "execute_result",
          "data": {
            "text/plain": [
              "(47, 2)"
            ]
          },
          "metadata": {
            "tags": []
          },
          "execution_count": 29
        }
      ]
    },
    {
      "cell_type": "code",
      "metadata": {
        "id": "2qgNiZbydcAs",
        "colab_type": "code",
        "colab": {
          "base_uri": "https://localhost:8080/",
          "height": 51
        },
        "outputId": "6cb6a61e-0838-4dfc-de22-7cd8eabdfb8e"
      },
      "source": [
        "#Here is an important part. Since we have a matrice theta of shape 3,1 and a matrice T of shape 47,2\n",
        "#We need to add a column of ones to the T matrice so we can do the matrice multiplication\n",
        "tmp = np.matrix([1] * X.shape[1])\n",
        "T = np.insert(T, 0, tmp, axis = 1)\n",
        "print(\"Shape of T is {}\".format(T.shape))\n",
        "print(\"Shape of theta is {}\".format(theta.shape))"
      ],
      "execution_count": 30,
      "outputs": [
        {
          "output_type": "stream",
          "text": [
            "Shape of T is (47, 3)\n",
            "Shape of theta is (3, 1)\n"
          ],
          "name": "stdout"
        }
      ]
    },
    {
      "cell_type": "code",
      "metadata": {
        "id": "nzij_yvbdmVq",
        "colab_type": "code",
        "colab": {}
      },
      "source": [
        "#Like week 1 we define the methods predict, cost and the fit_with_fost and visualize\n",
        "def predict(X, theta):\n",
        "    return X.dot(theta)\n",
        "  \n",
        "def cost(X, y, theta):\n",
        "    predictions = predict(X, theta)\n",
        "    cost = (1 / 2 * X.shape[0]) * np.sum(np.square(predictions - y))\n",
        "    return cost\n",
        "  \n",
        "def fit_with_cost(X, y, theta, alpha, num_iters):\n",
        "    m = 1 / X.shape[0]\n",
        "    J_history = []\n",
        "    J_history.append(cost(X, y, theta))\n",
        "    for i in range(num_iters):\n",
        "        prediction = predict(X, theta)\n",
        "        theta = theta - m * alpha * (X.T.dot((prediction - y)))\n",
        "        J_history.append(cost(X, y, theta))\n",
        "    \n",
        "    return theta, J_history"
      ],
      "execution_count": 0,
      "outputs": []
    },
    {
      "cell_type": "code",
      "metadata": {
        "id": "xesNfuwygPE6",
        "colab_type": "code",
        "colab": {
          "base_uri": "https://localhost:8080/",
          "height": 794
        },
        "outputId": "740fe040-bc1a-4d8c-e96f-2ba9e4dc1747"
      },
      "source": [
        "#Let's start the training and see what happens to the cost function over the iterations.\n",
        "#Of course you can try to tune the alpha to find the better fit. Try with alpha=5 and see what happens\n",
        "for nb in [10, 100, 1000]:\n",
        "  theta = np.matrix([0.0, 0.0, 0.0])\n",
        "  theta = np.transpose(theta)\n",
        "  theta, J_history = fit_with_cost(T, y, theta, 0.05, nb)\n",
        "  fit = plt.figure()\n",
        "  ax = plt.axes()\n",
        "  ax.plot(J_history)"
      ],
      "execution_count": 47,
      "outputs": [
        {
          "output_type": "display_data",
          "data": {
            "image/png": "[encoded data removed]",
            "text/plain": [
              "<Figure size 432x288 with 1 Axes>"
            ]
          },
          "metadata": {
            "tags": []
          }
        },
        {
          "output_type": "display_data",
          "data": {
            "image/png": "[encoded data removed]",
            "text/plain": [
              "<Figure size 432x288 with 1 Axes>"
            ]
          },
          "metadata": {
            "tags": []
          }
        },
        {
          "output_type": "display_data",
          "data": {
            "image/png": "[encoded data removed]",
            "text/plain": [
              "<Figure size 432x288 with 1 Axes>"
            ]
          },
          "metadata": {
            "tags": []
          }
        }
      ]
    },
    {
      "cell_type": "code",
      "metadata": {
        "id": "6HOXEIgriSZI",
        "colab_type": "code",
        "colab": {
          "base_uri": "https://localhost:8080/",
          "height": 85
        },
        "outputId": "ba4cb481-3909-4cb9-f22a-23a70799ec42"
      },
      "source": [
        "#Let's try a new data we create and see what the prediction is\n",
        "#Create the matrice with size = 1650 and nb_bedrooms = 3\n",
        "test = np.matrix([1650, 3]).T\n",
        "#DON'T forget to normalize since we trained on the normalized data\n",
        "test = ((test - mean) / stdev).T\n",
        "#create and add the column of ones with row = number of sample (here it's only 1 house we are trying to predict)\n",
        "tmp = np.matrix([1])\n",
        "test = np.insert(test, 0, tmp, axis = 1)\n",
        "print(theta) #This is the theta (parameters) we updated and now they will help us predict the price of new houses passing it to the predict method\n",
        "a = predict(test, theta)\n",
        "print(a)"
      ],
      "execution_count": 48,
      "outputs": [
        {
          "output_type": "stream",
          "text": [
            "[[340412.65957447]\n",
            " [109447.796457  ]\n",
            " [ -6578.35484152]]\n",
            "[[293081.46433768]]\n"
          ],
          "name": "stdout"
        }
      ]
    },
    {
      "cell_type": "code",
      "metadata": {
        "id": "OMbHeyLVi1YZ",
        "colab_type": "code",
        "colab": {}
      },
      "source": [
        "def fit_with_regularization(X, y, theta, alpha, num_iters, lamb):\n",
        "    m = 1 / X.shape[0]\n",
        "    J_history = []\n",
        "    J_history.append(cost(X, y, theta))\n",
        "    for i in range(num_iters):\n",
        "        reg = (lamb / X.shape[0]) * np.absolute(theta)\n",
        "        reg[0] = 0\n",
        "        prediction = predict(X, theta)\n",
        "        theta = theta - m * alpha * (X.T.dot((prediction - y))) + reg\n",
        "        J_history.append(cost(X, y, theta))\n",
        "    \n",
        "    return theta, J_history"
      ],
      "execution_count": 0,
      "outputs": []
    },
    {
      "cell_type": "code",
      "metadata": {
        "id": "aVzRLSRbkNFV",
        "colab_type": "code",
        "colab": {
          "base_uri": "https://localhost:8080/",
          "height": 276
        },
        "outputId": "8559d5e1-d6ee-429d-d03b-5fc980e924c2"
      },
      "source": [
        "for nb in [1500]:\n",
        "# ,1000]:\n",
        "  theta = np.matrix([0.0, 0.0, 0.0])\n",
        "  theta = np.transpose(theta)\n",
        "  theta, J_history = fit_with_regularization(T, y, theta, 0.01, nb, lamb=0.01)\n",
        "  fit = plt.figure()\n",
        "  ax = plt.axes()\n",
        "  ax.plot(J_history)"
      ],
      "execution_count": 108,
      "outputs": [
        {
          "output_type": "display_data",
          "data": {
            "image/png": "[encoded data removed]",
            "text/plain": [
              "<Figure size 432x288 with 1 Axes>"
            ]
          },
          "metadata": {
            "tags": []
          }
        }
      ]
    },
    {
      "cell_type": "code",
      "metadata": {
        "id": "NN_ir93xkYKt",
        "colab_type": "code",
        "colab": {
          "base_uri": "https://localhost:8080/",
          "height": 85
        },
        "outputId": "359a8339-a665-41c8-841f-f9b8e99070f4"
      },
      "source": [
        "test = np.matrix([1650, 3]).T\n",
        "test = ((test - mean) / stdev).T\n",
        "tmp = np.matrix([1])\n",
        "test = np.insert(test, 0, tmp, axis = 1)\n",
        "print(theta)\n",
        "a = predict(test, theta)\n",
        "print(a)"
      ],
      "execution_count": 109,
      "outputs": [
        {
          "output_type": "stream",
          "text": [
            "[[340412.56301439]\n",
            " [112712.58085728]\n",
            " [ -8194.98790829]]\n",
            "[[291990.64075476]]\n"
          ],
          "name": "stdout"
        }
      ]
    }
  ]
}